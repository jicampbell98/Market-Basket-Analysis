{
 "cells": [
  {
   "cell_type": "markdown",
   "id": "2feea690-36a3-4aac-ad44-7463c0e97d54",
   "metadata": {},
   "source": [
    "# Market Basket Analysis\n",
    "\n",
    "The objective of this notebook is to conduct a simple and educational analysis of the Market Basket Analysis dataset. This dataset is imported from Kaggle and has the following characteristics:\n",
    "\n",
    "## Dataset Description\n",
    "\n",
    "- **File name**: Assignment-1_Data\n",
    "- **File format**: .xlsx\n",
    "- **Number of Rows**: 522065\n",
    "- **Number of Attributes**: 7\n",
    "\n",
    "The attributes are as follows:\n",
    "\n",
    "\n",
    "1. **BillNo**: A 6-digit number assigned to each transaction. This is a nominal attribute.\n",
    "2. **Itemname**: The product name. This is a nominal attribute.\n",
    "3. **Quantity**: The quantities of each product per transaction. This is a numeric attribute.\n",
    "4. **Date**: The day and time when each transaction was generated. This is a numeric attribute.\n",
    "5. **Price**: The product price. This is a numeric attribute.\n",
    "6. **CustomerID**: A 5-digit number assigned to each customer. This is a nominal attribute.\n",
    "7. **Country**: The name of the country where each customer resides. This is a nominal attribute.\n",
    "\n",
    "\n",
    "## Project Objective\n",
    "\n",
    "The primary objective of the analysis is to uncover interesting patterns and insights about the dataset using the pandas library. The raw data is transformed into meaningful graphs that can provide valuable business insights, aid in decision-making processes, and reveal trends that may not be immediately apparent in the raw data.\n",
    "\n",
    "## Personal Objective\n",
    "This project serves as a way for me to further develop and refine my skills in MySQL, pandas, and Matplotlib. I look to enhance my technical abilities and proficiency in handling and visualizing large datasets."
   ]
  }
 ],
 "metadata": {
  "kernelspec": {
   "display_name": "Python 3 (ipykernel)",
   "language": "python",
   "name": "python3"
  },
  "language_info": {
   "codemirror_mode": {
    "name": "ipython",
    "version": 3
   },
   "file_extension": ".py",
   "mimetype": "text/x-python",
   "name": "python",
   "nbconvert_exporter": "python",
   "pygments_lexer": "ipython3",
   "version": "3.10.13"
  }
 },
 "nbformat": 4,
 "nbformat_minor": 5
}
