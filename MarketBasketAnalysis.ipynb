{
 "cells": [
  {
   "cell_type": "markdown",
   "id": "2feea690-36a3-4aac-ad44-7463c0e97d54",
   "metadata": {},
   "source": [
    "# Market Basket Analysis\n",
    "\n",
    "The objective of this notebook is to conduct a simple and educational analysis of the Market Basket Analysis dataset. This dataset is imported from Kaggle and has the following characteristics:\n",
    "\n",
    "## Dataset Description\n",
    "\n",
    "- **File name**: Assignment-1_Data\n",
    "- **File format**: .xlsx\n",
    "- **Number of Rows**: 522065\n",
    "- **Number of Attributes**: 7\n",
    "\n",
    "The attributes are as follows:\n",
    "\n",
    "\n",
    "1. **TransactionID**: A 6-digit number assigned to each transaction. This is a nominal attribute.\n",
    "2. **ProductName**: The product name. This is a nominal attribute.\n",
    "3. **ProductQuantity**: The quantities of each product per transaction. This is a numeric attribute.\n",
    "4. **TransactionDate**: The day and time when each transaction was generated. This is a numeric attribute.\n",
    "5. **ProductPrice**: The product price. This is a numeric attribute.\n",
    "6. **CustomerID**: A 5-digit number assigned to each customer. This is a nominal attribute.\n",
    "7. **CustomerCountry**: The name of the country where each customer resides. This is a nominal attribute.\n",
    "\n",
    "\n",
    "## Project Objective\n",
    "\n",
    "The primary objective of the analysis is to uncover interesting patterns and insights about the dataset using the pandas library. The raw data is transformed into meaningful graphs that can provide valuable business insights, aid in decision-making processes, and reveal trends that may not be immediately apparent in the raw data.\n",
    "\n",
    "## Personal Objective\n",
    "This project serves as a way for me to further develop and refine my skills in MySQL, pandas, and Matplotlib. I look to enhance my technical abilities and proficiency in handling and visualizing large datasets."
   ]
  },
  {
   "cell_type": "markdown",
   "id": "bad608c1-b963-4e26-810f-5159a66e9f7f",
   "metadata": {},
   "source": [
    "## Importing the Libraries"
   ]
  },
  {
   "cell_type": "code",
   "execution_count": 3,
   "id": "7a87aebc-19b9-4e1c-a2a9-2e9bef3f0dd9",
   "metadata": {
    "tags": []
   },
   "outputs": [],
   "source": [
    "import matplotlib.pyplot as plt\n",
    "import pandas as pd\n",
    "import seaborn as sns"
   ]
  },
  {
   "cell_type": "markdown",
   "id": "7edda053-40fc-49cf-afcf-7154faa28e7b",
   "metadata": {},
   "source": [
    "## Importing the Data\n",
    "\n",
    "The first step was to import the data in MySQL and remove any missing values, then it was exported as a .csv file which will be imported into the notebook."
   ]
  },
  {
   "cell_type": "code",
   "execution_count": 5,
   "id": "cfb3516e-9d8a-425a-b689-f34172b49d3c",
   "metadata": {},
   "outputs": [],
   "source": [
    "column_names = [\n",
    "    \"TransactionID\",  # A 6-digit number assigned to each transaction\n",
    "    \"ProductName\",    # The product name\n",
    "    \"ProductQuantity\",  # The quantities of each product per transaction\n",
    "    \"TransactionDate\",  # The day and time when each transaction was generated\n",
    "    \"ProductPrice\",  # The product price\n",
    "    \"CustomerID\",  # A 5-digit number assigned to each customer\n",
    "    \"CustomerCountry\"  # The name of the country where each customer resides\n",
    "]\n",
    "\n",
    "df = pd.read_csv('clean_market_data.csv', names=column_names)"
   ]
  },
  {
   "cell_type": "code",
   "execution_count": 6,
   "id": "4dd3ac2d-ee89-4d45-a688-10146c215d06",
   "metadata": {},
   "outputs": [
    {
     "data": {
      "text/html": [
       "<div>\n",
       "<style scoped>\n",
       "    .dataframe tbody tr th:only-of-type {\n",
       "        vertical-align: middle;\n",
       "    }\n",
       "\n",
       "    .dataframe tbody tr th {\n",
       "        vertical-align: top;\n",
       "    }\n",
       "\n",
       "    .dataframe thead th {\n",
       "        text-align: right;\n",
       "    }\n",
       "</style>\n",
       "<table border=\"1\" class=\"dataframe\">\n",
       "  <thead>\n",
       "    <tr style=\"text-align: right;\">\n",
       "      <th></th>\n",
       "      <th>TransactionID</th>\n",
       "      <th>ProductName</th>\n",
       "      <th>ProductQuantity</th>\n",
       "      <th>TransactionDate</th>\n",
       "      <th>ProductPrice</th>\n",
       "      <th>CustomerID</th>\n",
       "      <th>CustomerCountry</th>\n",
       "    </tr>\n",
       "  </thead>\n",
       "  <tbody>\n",
       "    <tr>\n",
       "      <th>1</th>\n",
       "      <td>536365</td>\n",
       "      <td>WHITE HANGING HEART T-LIGHT HOLDER</td>\n",
       "      <td>6</td>\n",
       "      <td>2010-12-01 08:26:00</td>\n",
       "      <td>2.55</td>\n",
       "      <td>17850</td>\n",
       "      <td>United Kingdom</td>\n",
       "    </tr>\n",
       "    <tr>\n",
       "      <th>2</th>\n",
       "      <td>536365</td>\n",
       "      <td>WHITE METAL LANTERN</td>\n",
       "      <td>6</td>\n",
       "      <td>2010-12-01 08:26:00</td>\n",
       "      <td>3.39</td>\n",
       "      <td>17850</td>\n",
       "      <td>United Kingdom</td>\n",
       "    </tr>\n",
       "    <tr>\n",
       "      <th>3</th>\n",
       "      <td>536365</td>\n",
       "      <td>CREAM CUPID HEARTS COAT HANGER</td>\n",
       "      <td>8</td>\n",
       "      <td>2010-12-01 08:26:00</td>\n",
       "      <td>2.75</td>\n",
       "      <td>17850</td>\n",
       "      <td>United Kingdom</td>\n",
       "    </tr>\n",
       "    <tr>\n",
       "      <th>4</th>\n",
       "      <td>536365</td>\n",
       "      <td>KNITTED UNION FLAG HOT WATER BOTTLE</td>\n",
       "      <td>6</td>\n",
       "      <td>2010-12-01 08:26:00</td>\n",
       "      <td>3.39</td>\n",
       "      <td>17850</td>\n",
       "      <td>United Kingdom</td>\n",
       "    </tr>\n",
       "    <tr>\n",
       "      <th>5</th>\n",
       "      <td>536365</td>\n",
       "      <td>RED WOOLLY HOTTIE WHITE HEART.</td>\n",
       "      <td>6</td>\n",
       "      <td>2010-12-01 08:26:00</td>\n",
       "      <td>3.39</td>\n",
       "      <td>17850</td>\n",
       "      <td>United Kingdom</td>\n",
       "    </tr>\n",
       "  </tbody>\n",
       "</table>\n",
       "</div>"
      ],
      "text/plain": [
       "   TransactionID                          ProductName  ProductQuantity  \\\n",
       "1         536365   WHITE HANGING HEART T-LIGHT HOLDER                6   \n",
       "2         536365                  WHITE METAL LANTERN                6   \n",
       "3         536365       CREAM CUPID HEARTS COAT HANGER                8   \n",
       "4         536365  KNITTED UNION FLAG HOT WATER BOTTLE                6   \n",
       "5         536365       RED WOOLLY HOTTIE WHITE HEART.                6   \n",
       "\n",
       "       TransactionDate  ProductPrice  CustomerID CustomerCountry  \n",
       "1  2010-12-01 08:26:00          2.55       17850  United Kingdom  \n",
       "2  2010-12-01 08:26:00          3.39       17850  United Kingdom  \n",
       "3  2010-12-01 08:26:00          2.75       17850  United Kingdom  \n",
       "4  2010-12-01 08:26:00          3.39       17850  United Kingdom  \n",
       "5  2010-12-01 08:26:00          3.39       17850  United Kingdom  "
      ]
     },
     "execution_count": 6,
     "metadata": {},
     "output_type": "execute_result"
    }
   ],
   "source": [
    "df.head()"
   ]
  },
  {
   "cell_type": "markdown",
   "id": "3448e846-622b-4169-9887-a70ccc34c5d2",
   "metadata": {},
   "source": [
    "## Adding additional column\n",
    "\n",
    "I added the following column to the DataFrame:\n",
    "\n",
    "**TotalTransactionValue**: ProductQuantity x ProductPrice"
   ]
  },
  {
   "cell_type": "code",
   "execution_count": 8,
   "id": "11e3df94-9887-4bb3-a5da-90a832e55f66",
   "metadata": {},
   "outputs": [
    {
     "data": {
      "text/html": [
       "<div>\n",
       "<style scoped>\n",
       "    .dataframe tbody tr th:only-of-type {\n",
       "        vertical-align: middle;\n",
       "    }\n",
       "\n",
       "    .dataframe tbody tr th {\n",
       "        vertical-align: top;\n",
       "    }\n",
       "\n",
       "    .dataframe thead th {\n",
       "        text-align: right;\n",
       "    }\n",
       "</style>\n",
       "<table border=\"1\" class=\"dataframe\">\n",
       "  <thead>\n",
       "    <tr style=\"text-align: right;\">\n",
       "      <th></th>\n",
       "      <th>TransactionID</th>\n",
       "      <th>ProductName</th>\n",
       "      <th>ProductQuantity</th>\n",
       "      <th>TransactionDate</th>\n",
       "      <th>ProductPrice</th>\n",
       "      <th>CustomerID</th>\n",
       "      <th>CustomerCountry</th>\n",
       "      <th>TotalTransactionValue</th>\n",
       "    </tr>\n",
       "  </thead>\n",
       "  <tbody>\n",
       "    <tr>\n",
       "      <th>1</th>\n",
       "      <td>536365</td>\n",
       "      <td>WHITE HANGING HEART T-LIGHT HOLDER</td>\n",
       "      <td>6</td>\n",
       "      <td>2010-12-01 08:26:00</td>\n",
       "      <td>2.55</td>\n",
       "      <td>17850</td>\n",
       "      <td>United Kingdom</td>\n",
       "      <td>15.30</td>\n",
       "    </tr>\n",
       "    <tr>\n",
       "      <th>2</th>\n",
       "      <td>536365</td>\n",
       "      <td>WHITE METAL LANTERN</td>\n",
       "      <td>6</td>\n",
       "      <td>2010-12-01 08:26:00</td>\n",
       "      <td>3.39</td>\n",
       "      <td>17850</td>\n",
       "      <td>United Kingdom</td>\n",
       "      <td>20.34</td>\n",
       "    </tr>\n",
       "    <tr>\n",
       "      <th>3</th>\n",
       "      <td>536365</td>\n",
       "      <td>CREAM CUPID HEARTS COAT HANGER</td>\n",
       "      <td>8</td>\n",
       "      <td>2010-12-01 08:26:00</td>\n",
       "      <td>2.75</td>\n",
       "      <td>17850</td>\n",
       "      <td>United Kingdom</td>\n",
       "      <td>22.00</td>\n",
       "    </tr>\n",
       "    <tr>\n",
       "      <th>4</th>\n",
       "      <td>536365</td>\n",
       "      <td>KNITTED UNION FLAG HOT WATER BOTTLE</td>\n",
       "      <td>6</td>\n",
       "      <td>2010-12-01 08:26:00</td>\n",
       "      <td>3.39</td>\n",
       "      <td>17850</td>\n",
       "      <td>United Kingdom</td>\n",
       "      <td>20.34</td>\n",
       "    </tr>\n",
       "    <tr>\n",
       "      <th>5</th>\n",
       "      <td>536365</td>\n",
       "      <td>RED WOOLLY HOTTIE WHITE HEART.</td>\n",
       "      <td>6</td>\n",
       "      <td>2010-12-01 08:26:00</td>\n",
       "      <td>3.39</td>\n",
       "      <td>17850</td>\n",
       "      <td>United Kingdom</td>\n",
       "      <td>20.34</td>\n",
       "    </tr>\n",
       "  </tbody>\n",
       "</table>\n",
       "</div>"
      ],
      "text/plain": [
       "   TransactionID                          ProductName  ProductQuantity  \\\n",
       "1         536365   WHITE HANGING HEART T-LIGHT HOLDER                6   \n",
       "2         536365                  WHITE METAL LANTERN                6   \n",
       "3         536365       CREAM CUPID HEARTS COAT HANGER                8   \n",
       "4         536365  KNITTED UNION FLAG HOT WATER BOTTLE                6   \n",
       "5         536365       RED WOOLLY HOTTIE WHITE HEART.                6   \n",
       "\n",
       "       TransactionDate  ProductPrice  CustomerID CustomerCountry  \\\n",
       "1  2010-12-01 08:26:00          2.55       17850  United Kingdom   \n",
       "2  2010-12-01 08:26:00          3.39       17850  United Kingdom   \n",
       "3  2010-12-01 08:26:00          2.75       17850  United Kingdom   \n",
       "4  2010-12-01 08:26:00          3.39       17850  United Kingdom   \n",
       "5  2010-12-01 08:26:00          3.39       17850  United Kingdom   \n",
       "\n",
       "   TotalTransactionValue  \n",
       "1                  15.30  \n",
       "2                  20.34  \n",
       "3                  22.00  \n",
       "4                  20.34  \n",
       "5                  20.34  "
      ]
     },
     "execution_count": 8,
     "metadata": {},
     "output_type": "execute_result"
    }
   ],
   "source": [
    "df['TotalTransactionValue'] = df['ProductQuantity'] * df['ProductPrice']\n",
    "df.head()"
   ]
  },
  {
   "cell_type": "markdown",
   "id": "97d472ec-730a-4653-a92b-ac1d1b67092b",
   "metadata": {},
   "source": [
    "## Top Items Bar Chart\n",
    "Displays the frequency of the top N most frequently purchased items, providing a quick overview of the most popular items among all transactions."
   ]
  },
  {
   "cell_type": "code",
   "execution_count": 34,
   "id": "aa560cfe-fbb5-425d-b8d2-91ed8c4326e9",
   "metadata": {
    "tags": []
   },
   "outputs": [
    {
     "data": {
      "image/png": "[encoded data removed]",
      "text/plain": [
       "<Figure size 1000x600 with 1 Axes>"
      ]
     },
     "metadata": {},
     "output_type": "display_data"
    }
   ],
   "source": [
    "# Set the number of items to display\n",
    "benchmark = 10\n",
    "\n",
    "# Calculate the frequency of each item and take the top N items\n",
    "top_items = df['ProductName'].value_counts()[:benchmark]\n",
    "\n",
    "# Blue color palette with the same number of colors as items\n",
    "palette = sns.color_palette(\"Blues_d\", n_colors=benchmark)[::-1]\n",
    "\n",
    "# Create the bar plot with the color palette\n",
    "plt.figure(figsize=(10,6))\n",
    "sns.barplot(y=top_items.index, x=top_items.values, orient='h', palette=palette)\n",
    "plt.title(f'Top {benchmark} Most Popular Items', fontsize=15)\n",
    "plt.xlabel('Number of Transactions', fontsize=12)\n",
    "plt.ylabel('')\n",
    "plt.show()"
   ]
  },
  {
   "cell_type": "code",
   "execution_count": null,
   "id": "305b687d-b788-42f4-8b10-899116d7460d",
   "metadata": {},
   "outputs": [],
   "source": []
  },
  {
   "cell_type": "code",
   "execution_count": null,
   "id": "158b50f8-c1ed-4ae7-8760-be581895d1db",
   "metadata": {},
   "outputs": [],
   "source": []
  },
  {
   "cell_type": "code",
   "execution_count": null,
   "id": "5a19896b-6932-47ab-9f60-a5b7eba76df2",
   "metadata": {},
   "outputs": [],
   "source": []
  },
  {
   "cell_type": "code",
   "execution_count": null,
   "id": "592d0c18-6ca0-4909-b833-afb73fedf058",
   "metadata": {},
   "outputs": [],
   "source": []
  }
 ],
 "metadata": {
  "kernelspec": {
   "display_name": "Python 3 (ipykernel)",
   "language": "python",
   "name": "python3"
  },
  "language_info": {
   "codemirror_mode": {
    "name": "ipython",
    "version": 3
   },
   "file_extension": ".py",
   "mimetype": "text/x-python",
   "name": "python",
   "nbconvert_exporter": "python",
   "pygments_lexer": "ipython3",
   "version": "3.10.13"
  }
 },
 "nbformat": 4,
 "nbformat_minor": 5
}
